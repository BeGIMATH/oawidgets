{
 "cells": [
  {
   "cell_type": "code",
   "execution_count": 2,
   "metadata": {},
   "outputs": [
    {
     "data": {
      "application/vnd.jupyter.widget-view+json": {
       "model_id": "07bcb69439cf4f20ae1d268738a2d429",
       "version_major": 2,
       "version_minor": 0
      },
      "text/plain": [
       "UGxvdChhbnRpYWxpYXM9MywgYXhlcz1bJ3gnLCAneScsICd6J10sIGJhY2tncm91bmRfY29sb3I9MTY3NzcyMTUsIGNhbWVyYT1bNC41LCA0LjUsIDQuNSwgMC4wLCAwLjAsIDAuMCwgMS4wLCDigKY=\n"
      ]
     },
     "metadata": {},
     "output_type": "display_data"
    }
   ],
   "source": [
    "import k3d\n",
    "plot = k3d.plot()\n",
    "plot"
   ]
  },
  {
   "cell_type": "code",
   "execution_count": 11,
   "metadata": {},
   "outputs": [],
   "source": [
    "from openalea.plantgl.all import *\n",
    "s=Sphere()\n"
   ]
  },
  {
   "cell_type": "code",
   "execution_count": 30,
   "metadata": {},
   "outputs": [],
   "source": [
    "def tomesh(geometry, d=None):\n",
    "    if d is None:\n",
    "        d = Tesselator()\n",
    "        \n",
    "    geometry.apply(d)\n",
    "    idl = [tuple(index) for index in list(d.discretization.indexList)]\n",
    "    pts = [(pt.x, pt.y, pt.z) for pt in list(d.discretization.pointList)]\n",
    "    mesh = k3d.mesh(vertices=pts, indices=idl)\n",
    "    return mesh\n",
    "    \n",
    "def pgl(pglobject):\n",
    "    plot = k3d.plot(camera_auto_fit=False)\n",
    "    d = Discretizer()\n",
    "    \n",
    "    if isinstance(pglobject, Geometry):\n",
    "        mesh = tomesh(pglobject)\n",
    "        plot += mesh\n",
    "    elif isinstance(pglobject, Shape):\n",
    "        mesh = tomesh(pglobject.geometry)\n",
    "        plot += mesh\n",
    "    elif isinstance(pglobject, Scene):\n",
    "        for sh in pglobject:\n",
    "            mesh = tomesh(sh.geometry)\n",
    "            plot+= mesh\n",
    "    return plot"
   ]
  },
  {
   "cell_type": "code",
   "execution_count": 31,
   "metadata": {},
   "outputs": [
    {
     "data": {
      "application/vnd.jupyter.widget-view+json": {
       "model_id": "dcd61ff153904dd8b3c2950a7b04ce55",
       "version_major": 2,
       "version_minor": 0
      },
      "text/plain": [
       "UGxvdChhbnRpYWxpYXM9MywgYXhlcz1bJ3gnLCAneScsICd6J10sIGJhY2tncm91bmRfY29sb3I9MTY3NzcyMTUsIGNhbWVyYT1bNC41LCA0LjUsIDQuNSwgMC4wLCAwLjAsIDAuMCwgMS4wLCDigKY=\n"
      ]
     },
     "metadata": {},
     "output_type": "display_data"
    }
   ],
   "source": [
    "pgl(s)"
   ]
  },
  {
   "cell_type": "code",
   "execution_count": 33,
   "metadata": {},
   "outputs": [],
   "source": [
    "scene = Scene()\n",
    "scene.add(Sphere())\n",
    "b = Box()\n",
    "tbox = Translated((1,0,0), b)\n",
    "scene.add(tbox)"
   ]
  },
  {
   "cell_type": "code",
   "execution_count": 34,
   "metadata": {},
   "outputs": [
    {
     "data": {
      "application/vnd.jupyter.widget-view+json": {
       "model_id": "d0b4aecf8c9e4aec84ff6373596d0a37",
       "version_major": 2,
       "version_minor": 0
      },
      "text/plain": [
       "UGxvdChhbnRpYWxpYXM9MywgYXhlcz1bJ3gnLCAneScsICd6J10sIGJhY2tncm91bmRfY29sb3I9MTY3NzcyMTUsIGNhbWVyYT1bNC41LCA0LjUsIDQuNSwgMC4wLCAwLjAsIDAuMCwgMS4wLCDigKY=\n"
      ]
     },
     "metadata": {},
     "output_type": "display_data"
    }
   ],
   "source": [
    "pgl(scene)"
   ]
  },
  {
   "cell_type": "code",
   "execution_count": 35,
   "metadata": {},
   "outputs": [],
   "source": [
    "import openalea.mtg"
   ]
  },
  {
   "cell_type": "code",
   "execution_count": 41,
   "metadata": {},
   "outputs": [],
   "source": [
    "import openalea.mtg\n",
    "from openalea.deploy.shared_data import shared_data\n",
    "data = shared_data(openalea.mtg)"
   ]
  },
  {
   "cell_type": "code",
   "execution_count": 43,
   "metadata": {},
   "outputs": [],
   "source": [
    "from openalea.mtg import *\n",
    "g = MTG(data/'noylum2.mtg')\n"
   ]
  },
  {
   "cell_type": "code",
   "execution_count": 45,
   "metadata": {},
   "outputs": [
    {
     "name": "stdout",
     "output_type": "stream",
     "text": [
      "\n"
     ]
    }
   ],
   "source": [
    "drf = data/'walnut.drf'\n",
    "dressing_data = dresser.dressing_data_from_file(drf)\n",
    "dressing_data = plantframe.DressingData(DiameterUnit=10)\n",
    "\n",
    "pf = plantframe.PlantFrame(g,\n",
    "                       TopDiameter='TopDia',\n",
    "                       DressingData = dressing_data)"
   ]
  },
  {
   "cell_type": "code",
   "execution_count": 50,
   "metadata": {},
   "outputs": [],
   "source": [
    "pf.plot??"
   ]
  },
  {
   "cell_type": "code",
   "execution_count": 51,
   "metadata": {},
   "outputs": [],
   "source": [
    "scene =pf.plot(gc=True, display=False)"
   ]
  },
  {
   "cell_type": "code",
   "execution_count": 52,
   "metadata": {},
   "outputs": [
    {
     "data": {
      "application/vnd.jupyter.widget-view+json": {
       "model_id": "50b496fe25b94369a34e876d4d58f4a6",
       "version_major": 2,
       "version_minor": 0
      },
      "text/plain": [
       "UGxvdChhbnRpYWxpYXM9MywgYXhlcz1bJ3gnLCAneScsICd6J10sIGJhY2tncm91bmRfY29sb3I9MTY3NzcyMTUsIGNhbWVyYT1bNC41LCA0LjUsIDQuNSwgMC4wLCAwLjAsIDAuMCwgMS4wLCDigKY=\n"
      ]
     },
     "metadata": {},
     "output_type": "display_data"
    }
   ],
   "source": [
    "pgl(scene)"
   ]
  },
  {
   "cell_type": "code",
   "execution_count": null,
   "metadata": {},
   "outputs": [],
   "source": []
  }
 ],
 "metadata": {
  "kernelspec": {
   "display_name": "IPython (Python 2)",
   "language": "python",
   "name": "python2"
  },
  "language_info": {
   "codemirror_mode": {
    "name": "ipython",
    "version": 2
   },
   "file_extension": ".py",
   "mimetype": "text/x-python",
   "name": "python",
   "nbconvert_exporter": "python",
   "pygments_lexer": "ipython2",
   "version": "2.7.15"
  }
 },
 "nbformat": 4,
 "nbformat_minor": 2
}
