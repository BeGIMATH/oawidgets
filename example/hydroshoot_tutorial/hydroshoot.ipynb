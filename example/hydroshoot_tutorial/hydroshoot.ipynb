{
 "cells": [
  {
   "cell_type": "markdown",
   "metadata": {},
   "source": [
    "# HydroShoot"
   ]
  },
  {
   "cell_type": "code",
   "execution_count": 1,
   "metadata": {},
   "outputs": [
    {
     "name": "stdout",
     "output_type": "stream",
     "text": [
      "NOT using graph editor observer No module named grapheditor\n"
     ]
    }
   ],
   "source": [
    "from os import getcwd\n",
    "\n",
    "from openalea.mtg import traversal\n",
    "from openalea.plantgl.all import Scene\n",
    "from hydroshoot import architecture, display, model\n",
    "\n",
    "# Path for plant digitalization data.\n",
    "g = architecture.vine_mtg('grapevine_pot.csv')\n",
    "\n",
    "# Local Coordinates Correction\n",
    "for v in traversal.iter_mtg2(g, g.root):\n",
    "    n = g.node(g.Trunk(v, Scale=1)[0])\n",
    "    theta = 180 if int(n.index()) < 200 else -90 if int(n.index()) < 300 else 0\n",
    "    architecture.vine_orientation(g, v, theta, local_rotation=True)\n",
    "\n",
    "# Scene rotation\n",
    "for v in traversal.iter_mtg2(g, g.root):\n",
    "    architecture.vine_orientation(g, v, 90., local_rotation=False)\n",
    "\n",
    "for v in traversal.iter_mtg2(g, g.root):\n",
    "    architecture.vine_phyto_modular(g, v)\n",
    "    architecture.vine_mtg_properties(g, v)\n",
    "    architecture.vine_mtg_geometry(g, v)\n",
    "    architecture.vine_transform(g, v)"
   ]
  },
  {
   "cell_type": "code",
   "execution_count": 2,
   "metadata": {},
   "outputs": [],
   "source": [
    "scene = display.visu(g, def_elmnt_color_dict=True, scene=Scene(), view_result=False)"
   ]
  },
  {
   "cell_type": "code",
   "execution_count": 3,
   "metadata": {},
   "outputs": [
    {
     "name": "stdout",
     "output_type": "stream",
     "text": [
      "('len vertices', 2136)\n",
      "('len attributes', 2136)\n"
     ]
    },
    {
     "data": {
      "application/vnd.jupyter.widget-view+json": {
       "model_id": "8c0b32c40b0b424c958914af06fc2ee5",
       "version_major": 2,
       "version_minor": 0
      },
      "text/plain": [
       "UGxvdChhbnRpYWxpYXM9MywgYXhlcz1bJ3gnLCAneScsICd6J10sIGJhY2tncm91bmRfY29sb3I9MTY3NzcyMTUsIGNhbWVyYT1bNC41LCA0LjUsIDQuNSwgMC4wLCAwLjAsIDAuMCwgMS4wLCDigKY=\n"
      ]
     },
     "metadata": {},
     "output_type": "display_data"
    }
   ],
   "source": [
    "from oawidgets.plantgl import *\n",
    "PlantGL(scene)"
   ]
  },
  {
   "cell_type": "code",
   "execution_count": null,
   "metadata": {},
   "outputs": [],
   "source": []
  }
 ],
 "metadata": {
  "kernelspec": {
   "display_name": "Python 2",
   "language": "python",
   "name": "python2"
  },
  "language_info": {
   "codemirror_mode": {
    "name": "ipython",
    "version": 2
   },
   "file_extension": ".py",
   "mimetype": "text/x-python",
   "name": "python",
   "nbconvert_exporter": "python",
   "pygments_lexer": "ipython2",
   "version": "2.7.16"
  }
 },
 "nbformat": 4,
 "nbformat_minor": 2
}
