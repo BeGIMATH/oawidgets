{
 "cells": [
  {
   "cell_type": "markdown",
   "metadata": {},
   "source": [
    "# Sphere"
   ]
  },
  {
   "cell_type": "code",
   "execution_count": null,
   "metadata": {},
   "outputs": [],
   "source": [
    "import k3d\n",
    "plot = k3d.plot()"
   ]
  },
  {
   "cell_type": "code",
   "execution_count": null,
   "metadata": {},
   "outputs": [],
   "source": [
    "from openalea.plantgl.all import *\n",
    "s=Sphere(radius=2)"
   ]
  },
  {
   "cell_type": "code",
   "execution_count": null,
   "metadata": {
    "scrolled": true
   },
   "outputs": [],
   "source": [
    "import oawidgets\n",
    "from oawidgets.plantgl import PlantGL\n",
    "PlantGL(s)"
   ]
  },
  {
   "cell_type": "code",
   "execution_count": null,
   "metadata": {},
   "outputs": [],
   "source": [
    "scene = Scene()\n",
    "scene.add(Sphere())\n",
    "b = Box()\n",
    "tbox = Translated((1,0,0), b)\n",
    "scene.add(tbox)"
   ]
  },
  {
   "cell_type": "code",
   "execution_count": null,
   "metadata": {},
   "outputs": [],
   "source": [
    "PlantGL(scene)"
   ]
  }
 ],
 "metadata": {
  "kernelspec": {
   "display_name": "Python 2",
   "language": "python",
   "name": "python2"
  },
  "language_info": {
   "codemirror_mode": {
    "name": "ipython",
    "version": 2
   },
   "file_extension": ".py",
   "mimetype": "text/x-python",
   "name": "python",
   "nbconvert_exporter": "python",
   "pygments_lexer": "ipython2",
   "version": "2.7.16"
  },
  "widgets": {
   "application/vnd.jupyter.widget-state+json": {
    "state": {
     "087fb554b85b4040a6f73b5a7bd28d35": {
      "model_module": "@jupyter-widgets/base",
      "model_module_version": "1.1.0",
      "model_name": "LayoutModel",
      "state": {}
     },
     "0c6a90f473e64e4fb8a5c2694c403bce": {
      "buffers": [
       {
        "data": "eNoDAAAAAAE=",
        "encoding": "base64",
        "path": [
         "attribute",
         "compressed_buffer"
        ]
       },
       {
        "data": "eNoDAAAAAAE=",
        "encoding": "base64",
        "path": [
         "color_map",
         "compressed_buffer"
        ]
       },
       {
        "data": "eNpjYGiwZ8AAxIsBAF7EAv0=",
        "encoding": "base64",
        "path": [
         "model_matrix",
         "compressed_buffer"
        ]
       },
       {
        "data": "eNpjYDhgz8DAsB+K0dlQ/gF0Npo8nA3FcPX2AK4WDOk=",
        "encoding": "base64",
        "path": [
         "vertices",
         "compressed_buffer"
        ]
       },
       {
        "data": "eNpNjNEKADAIAq21+v8/bjIfDOIuSAEg3ib+kEdOjpws/cKcvMqFOdnqSPO2rtFdIjMLHKgAfQ==",
        "encoding": "base64",
        "path": [
         "indices",
         "compressed_buffer"
        ]
       }
      ],
      "model_module": "k3d",
      "model_module_version": "2.6.9",
      "model_name": "ObjectModel",
      "state": {
       "_view_count": null,
       "_view_module": null,
       "_view_module_version": "",
       "_view_name": null,
       "attribute": {
        "dtype": "float32",
        "shape": [
         0
        ]
       },
       "color": 255,
       "color_map": {
        "dtype": "float32",
        "shape": [
         0
        ]
       },
       "color_range": [],
       "compression_level": 0,
       "flat_shading": true,
       "id": 140499393180496,
       "indices": {
        "dtype": "uint32",
        "shape": [
         12,
         3
        ]
       },
       "model_matrix": {
        "dtype": "float32",
        "shape": [
         4,
         4
        ]
       },
       "name": null,
       "opacity": 1,
       "type": "Mesh",
       "vertices": {
        "dtype": "float32",
        "shape": [
         8,
         3
        ]
       },
       "visible": true,
       "wireframe": false
      }
     },
     "12b4589728334eea91ac35d6aa3fcfed": {
      "buffers": [
       {
        "data": "eNoDAAAAAAE=",
        "encoding": "base64",
        "path": [
         "attribute",
         "compressed_buffer"
        ]
       },
       {
        "data": "eNpNkrGKAjEQhrc4BK/fN9BybaxlBHsfwcbaarE8EKzEwkZ8A7HQVHLt/dZXH/oClsJyCGIjmD8k+gdCspOZj4+ZzaueZX4NphdcP77D3Z/w3+GeVz34o5vFJXGTfMvfHPubf4ZNZpZNjJvMcWdj3GSyJtVL3CRfOXYbzXZ8J/O3euxiPYbnpuM7meWi7ZKrxE3ylUM2xBPiCfGEeEI8IZ6JE2puo7qL/fSuXy7207uuXeznoVzsXep7jJvkKyfxIZ4QT4gnxBPiCfEMs/1v9AvWkXkqf4pUvzzeC8b4ttrWWnQlU+Im+cpJ84LMHTJ3yNwhc4fMHTL31z8Y10Hu3Se77SfB",
        "encoding": "base64",
        "path": [
         "vertices",
         "compressed_buffer"
        ]
       },
       {
        "data": "eNpjYGiwZ8AAxIsBAF7EAv0=",
        "encoding": "base64",
        "path": [
         "model_matrix",
         "compressed_buffer"
        ]
       },
       {
        "data": "eNoDAAAAAAE=",
        "encoding": "base64",
        "path": [
         "color_map",
         "compressed_buffer"
        ]
       },
       {
        "data": "eNpNlMdOA0EUBNc54ogjjjjiiDP8/48xLWqkXumpqjWH7tMmSZL8hCuEy4d7C/cbLpX8fwVcLIZLk6OLpXAZcnSxHC5Lji5WwuXI0cUqG3LmVTYV2Fkjv7OzyFsNF+v0F83FBv0lc7FJf9lcbNFfMRfbbKiat9lUY2eH/MHOOm8dXOzSXzcXe/Q3zMU+/U1zcUB/y1wcsqFtPmRTh50j8ic7u7yNcHFMf9dcnNDfMxen9PfNxRn9A3Nxzoah+ZxNI3YuyF/sHPO2wMUl/WNzcUX/xFxc0z81Fzf0z8zFLRvm5ls2Ldi5I3+zc8nbDhf39C/NxQP9K3PxSP/aXDzRvzEXz2zYmp/ZtGPnhfxi5563Cy5e6d+bizf6D+binf6jufig/2QuPtlwNn+y6cLOhJxn55W3BE/4H93I0VP8j+7k6Gn+Rw9y9Az/oyc5epb/0YscPcemP+tRJek=",
        "encoding": "base64",
        "path": [
         "indices",
         "compressed_buffer"
        ]
       }
      ],
      "model_module": "k3d",
      "model_module_version": "2.6.9",
      "model_name": "ObjectModel",
      "state": {
       "_view_count": null,
       "_view_module": null,
       "_view_module_version": "",
       "_view_name": null,
       "attribute": {
        "dtype": "float32",
        "shape": [
         0
        ]
       },
       "color": 255,
       "color_map": {
        "dtype": "float32",
        "shape": [
         0
        ]
       },
       "color_range": [],
       "compression_level": 0,
       "flat_shading": true,
       "id": 139656766553424,
       "indices": {
        "dtype": "uint32",
        "shape": [
         112,
         3
        ]
       },
       "model_matrix": {
        "dtype": "float32",
        "shape": [
         4,
         4
        ]
       },
       "name": null,
       "opacity": 1,
       "type": "Mesh",
       "vertices": {
        "dtype": "float32",
        "shape": [
         58,
         3
        ]
       },
       "visible": true,
       "wireframe": false
      }
     },
     "170f903da5de45e8bc374a99c5878e78": {
      "model_module": "k3d",
      "model_module_version": "2.6.9",
      "model_name": "PlotModel",
      "state": {
       "_backend_version": "2.6.9",
       "_dom_classes": [],
       "_view_count": null,
       "antialias": 3,
       "axes": [
        "x",
        "y",
        "z"
       ],
       "background_color": 16777215,
       "camera": [
        5.755765314519715,
        -8.633647971779574,
        0.5755765314519765,
        0,
        0,
        0,
        0,
        0,
        1
       ],
       "camera_auto_fit": true,
       "camera_no_pan": false,
       "camera_no_rotate": false,
       "camera_no_zoom": false,
       "clipping_planes": [],
       "colorbar_object_id": -1,
       "fps_meter": false,
       "grid": [
        -1,
        -1,
        -1,
        1,
        1,
        1
       ],
       "grid_auto_fit": true,
       "grid_visible": true,
       "height": 512,
       "layout": "IPY_MODEL_e00441e2f32645e8bb9fb42112cd134f",
       "lighting": 1,
       "menu_visibility": true,
       "object_ids": [
        139657573303120
       ],
       "rendering_steps": 1,
       "screenshot": "",
       "screenshot_scale": 2,
       "time": 0,
       "voxel_paint_color": 0
      }
     },
     "3aae7245d52044e58c21975c8ad2135b": {
      "buffers": [
       {
        "data": "eNoDAAAAAAE=",
        "encoding": "base64",
        "path": [
         "attribute",
         "compressed_buffer"
        ]
       },
       {
        "data": "eNoDAAAAAAE=",
        "encoding": "base64",
        "path": [
         "color_map",
         "compressed_buffer"
        ]
       },
       {
        "data": "eNpjYGiwZ8AAxIsBAF7EAv0=",
        "encoding": "base64",
        "path": [
         "model_matrix",
         "compressed_buffer"
        ]
       },
       {
        "data": "eNpNkrGKAjEQhrc4BK/fN9BybaxlBHsfwcbaarE8EKzEwkZ8A7HQVHLt/dZXH/oClsJyCGIjmD8k+gdCspOZj4+ZzaueZX4NphdcP77D3Z/w3+GeVz34o5vFJXGTfMvfHPubf4ZNZpZNjJvMcWdj3GSyJtVL3CRfOXYbzXZ8J/O3euxiPYbnpuM7meWi7ZKrxE3ylUM2xBPiCfGEeEI8IZ6JE2puo7qL/fSuXy7207uuXeznoVzsXep7jJvkKyfxIZ4QT4gnxBPiCfEMs/1v9AvWkXkqf4pUvzzeC8b4ttrWWnQlU+Im+cpJ84LMHTJ3yNwhc4fMHTL31z8Y10Hu3Se77SfB",
        "encoding": "base64",
        "path": [
         "vertices",
         "compressed_buffer"
        ]
       },
       {
        "data": "eNpNlMdOA0EUBNc54ogjjjjiiDP8/48xLWqkXumpqjWH7tMmSZL8hCuEy4d7C/cbLpX8fwVcLIZLk6OLpXAZcnSxHC5Lji5WwuXI0cUqG3LmVTYV2Fkjv7OzyFsNF+v0F83FBv0lc7FJf9lcbNFfMRfbbKiat9lUY2eH/MHOOm8dXOzSXzcXe/Q3zMU+/U1zcUB/y1wcsqFtPmRTh50j8ic7u7yNcHFMf9dcnNDfMxen9PfNxRn9A3Nxzoah+ZxNI3YuyF/sHPO2wMUl/WNzcUX/xFxc0z81Fzf0z8zFLRvm5ls2Ldi5I3+zc8nbDhf39C/NxQP9K3PxSP/aXDzRvzEXz2zYmp/ZtGPnhfxi5563Cy5e6d+bizf6D+binf6jufig/2QuPtlwNn+y6cLOhJxn55W3BE/4H93I0VP8j+7k6Gn+Rw9y9Az/oyc5epb/0YscPcemP+tRJek=",
        "encoding": "base64",
        "path": [
         "indices",
         "compressed_buffer"
        ]
       }
      ],
      "model_module": "k3d",
      "model_module_version": "2.6.9",
      "model_name": "ObjectModel",
      "state": {
       "_view_count": null,
       "_view_module": null,
       "_view_module_version": "",
       "_view_name": null,
       "attribute": {
        "dtype": "float32",
        "shape": [
         0
        ]
       },
       "color": 255,
       "color_map": {
        "dtype": "float32",
        "shape": [
         0
        ]
       },
       "color_range": [],
       "compression_level": 0,
       "flat_shading": true,
       "id": 140499393182928,
       "indices": {
        "dtype": "uint32",
        "shape": [
         112,
         3
        ]
       },
       "model_matrix": {
        "dtype": "float32",
        "shape": [
         4,
         4
        ]
       },
       "name": null,
       "opacity": 1,
       "type": "Mesh",
       "vertices": {
        "dtype": "float32",
        "shape": [
         58,
         3
        ]
       },
       "visible": true,
       "wireframe": false
      }
     },
     "48b05a80f77b46d19b2441cdcb61c80c": {
      "model_module": "@jupyter-widgets/base",
      "model_module_version": "1.1.0",
      "model_name": "LayoutModel",
      "state": {}
     },
     "6b29594f6fcb4486b72016313cb3c09a": {
      "model_module": "@jupyter-widgets/base",
      "model_module_version": "1.1.0",
      "model_name": "LayoutModel",
      "state": {}
     },
     "73f8469ecff34809b8072e412d2c4f74": {
      "model_module": "@jupyter-widgets/base",
      "model_module_version": "1.1.0",
      "model_name": "LayoutModel",
      "state": {}
     },
     "764e0bfb7fca4c56ab361f35a4b1a803": {
      "buffers": [
       {
        "data": "eNoDAAAAAAE=",
        "encoding": "base64",
        "path": [
         "attribute",
         "compressed_buffer"
        ]
       },
       {
        "data": "eNoDAAAAAAE=",
        "encoding": "base64",
        "path": [
         "color_map",
         "compressed_buffer"
        ]
       },
       {
        "data": "eNpjYGiwZ8AAxIsBAF7EAv0=",
        "encoding": "base64",
        "path": [
         "model_matrix",
         "compressed_buffer"
        ]
       },
       {
        "data": "eNpNkrGKAjEQhrcQ4ez3DbRbK2vHwt5HsLG2WiwFwUosbI57g+OKTSe2v731oS9gKSwiiI1g/pDoHwjJTmY+PmY2r4eW+TVeXnBr7MLdn/Df4Z7XQ/hjkMUlcZN8yz8c+1+3wiYzyxbGTeas/2fcZLIm1UvcJF85dp+uKr6TeaifVazH5NxxfCez3PRccpW4Sb5yyIZ4QjwhnhBPiCfEM3FCzX365WI/vevcxX56118X+7kvN1uX+h7jJvnKSXyIJ8QT4gnxhHhCPMNsr+1RwToyTyWKVP99fBSM8e2nanbpSqbETfKVk+YFmTtk7pC5Q+YOmTtk7u9/MK693Acv7SsnJg==",
        "encoding": "base64",
        "path": [
         "vertices",
         "compressed_buffer"
        ]
       },
       {
        "data": "eNpNlMdOA0EUBNc54ogjjjjiiDP8/48xLWqkXumpqjWH7tMmSZL8hCuEy4d7C/cbLpX8fwVcLIZLk6OLpXAZcnSxHC5Lji5WwuXI0cUqG3LmVTYV2Fkjv7OzyFsNF+v0F83FBv0lc7FJf9lcbNFfMRfbbKiat9lUY2eH/MHOOm8dXOzSXzcXe/Q3zMU+/U1zcUB/y1wcsqFtPmRTh50j8ic7u7yNcHFMf9dcnNDfMxen9PfNxRn9A3Nxzoah+ZxNI3YuyF/sHPO2wMUl/WNzcUX/xFxc0z81Fzf0z8zFLRvm5ls2Ldi5I3+zc8nbDhf39C/NxQP9K3PxSP/aXDzRvzEXz2zYmp/ZtGPnhfxi5563Cy5e6d+bizf6D+binf6jufig/2QuPtlwNn+y6cLOhJxn55W3BE/4H93I0VP8j+7k6Gn+Rw9y9Az/oyc5epb/0YscPcemP+tRJek=",
        "encoding": "base64",
        "path": [
         "indices",
         "compressed_buffer"
        ]
       }
      ],
      "model_module": "k3d",
      "model_module_version": "2.6.9",
      "model_name": "ObjectModel",
      "state": {
       "_view_count": null,
       "_view_module": null,
       "_view_module_version": "",
       "_view_name": null,
       "attribute": {
        "dtype": "float32",
        "shape": [
         0
        ]
       },
       "color": 255,
       "color_map": {
        "dtype": "float32",
        "shape": [
         0
        ]
       },
       "color_range": [],
       "compression_level": 0,
       "flat_shading": true,
       "id": 140499393214480,
       "indices": {
        "dtype": "uint32",
        "shape": [
         112,
         3
        ]
       },
       "model_matrix": {
        "dtype": "float32",
        "shape": [
         4,
         4
        ]
       },
       "name": null,
       "opacity": 1,
       "type": "Mesh",
       "vertices": {
        "dtype": "float32",
        "shape": [
         58,
         3
        ]
       },
       "visible": true,
       "wireframe": false
      }
     },
     "7b303e0d50404e63995220f401500ebd": {
      "buffers": [
       {
        "data": "eNoDAAAAAAE=",
        "encoding": "base64",
        "path": [
         "attribute",
         "compressed_buffer"
        ]
       },
       {
        "data": "eNpjYDhgz8DAsB+K0dlQ/gF0Npo8nA3FcPX2AK4WDOk=",
        "encoding": "base64",
        "path": [
         "vertices",
         "compressed_buffer"
        ]
       },
       {
        "data": "eNpjYGiwZ8AAxIsBAF7EAv0=",
        "encoding": "base64",
        "path": [
         "model_matrix",
         "compressed_buffer"
        ]
       },
       {
        "data": "eNoDAAAAAAE=",
        "encoding": "base64",
        "path": [
         "color_map",
         "compressed_buffer"
        ]
       },
       {
        "data": "eNpNjNEKADAIAq21+v8/bjIfDOIuSAEg3ib+kEdOjpws/cKcvMqFOdnqSPO2rtFdIjMLHKgAfQ==",
        "encoding": "base64",
        "path": [
         "indices",
         "compressed_buffer"
        ]
       }
      ],
      "model_module": "k3d",
      "model_module_version": "2.6.9",
      "model_name": "ObjectModel",
      "state": {
       "_view_count": null,
       "_view_module": null,
       "_view_module_version": "",
       "_view_name": null,
       "attribute": {
        "dtype": "float32",
        "shape": [
         0
        ]
       },
       "color": 255,
       "color_map": {
        "dtype": "float32",
        "shape": [
         0
        ]
       },
       "color_range": [],
       "compression_level": 0,
       "flat_shading": true,
       "id": 139656766572944,
       "indices": {
        "dtype": "uint32",
        "shape": [
         12,
         3
        ]
       },
       "model_matrix": {
        "dtype": "float32",
        "shape": [
         4,
         4
        ]
       },
       "name": null,
       "opacity": 1,
       "type": "Mesh",
       "vertices": {
        "dtype": "float32",
        "shape": [
         8,
         3
        ]
       },
       "visible": true,
       "wireframe": false
      }
     },
     "805ec4573dd741be9e042637d49dd2e7": {
      "model_module": "k3d",
      "model_module_version": "2.6.9",
      "model_name": "PlotModel",
      "state": {
       "_backend_version": "2.6.9",
       "_dom_classes": [],
       "_view_count": null,
       "antialias": 3,
       "axes": [
        "x",
        "y",
        "z"
       ],
       "background_color": 16777215,
       "camera": [
        2.5349703424076058,
        -3.052455513611408,
        0.20349703424076393,
        0.5,
        0,
        0,
        0,
        0,
        1
       ],
       "camera_auto_fit": true,
       "camera_no_pan": false,
       "camera_no_rotate": false,
       "camera_no_zoom": false,
       "clipping_planes": [],
       "colorbar_object_id": -1,
       "fps_meter": false,
       "grid": [
        -1,
        -1,
        -1,
        1,
        1,
        1
       ],
       "grid_auto_fit": true,
       "grid_visible": true,
       "height": 512,
       "layout": "IPY_MODEL_6b29594f6fcb4486b72016313cb3c09a",
       "lighting": 1,
       "menu_visibility": true,
       "object_ids": [
        139656766571600,
        139656766572944
       ],
       "rendering_steps": 1,
       "screenshot": "",
       "screenshot_scale": 2,
       "time": 0,
       "voxel_paint_color": 0
      }
     },
     "84f3ada994d24594a45d3c8db24a89bc": {
      "model_module": "@jupyter-widgets/base",
      "model_module_version": "1.1.0",
      "model_name": "LayoutModel",
      "state": {}
     },
     "a4258d61e9e2436789ef9424ab52a861": {
      "model_module": "k3d",
      "model_module_version": "2.6.9",
      "model_name": "PlotModel",
      "state": {
       "_backend_version": "2.6.9",
       "_dom_classes": [],
       "_view_count": null,
       "antialias": 3,
       "axes": [
        "x",
        "y",
        "z"
       ],
       "background_color": 16777215,
       "camera": [
        4.5,
        4.5,
        4.5,
        0,
        0,
        0,
        1,
        0,
        0
       ],
       "camera_auto_fit": true,
       "camera_no_pan": false,
       "camera_no_rotate": false,
       "camera_no_zoom": false,
       "clipping_planes": [],
       "colorbar_object_id": -1,
       "fps_meter": false,
       "grid": [
        -1,
        -1,
        -1,
        1,
        1,
        1
       ],
       "grid_auto_fit": true,
       "grid_visible": true,
       "height": 512,
       "layout": "IPY_MODEL_48b05a80f77b46d19b2441cdcb61c80c",
       "lighting": 1,
       "menu_visibility": true,
       "object_ids": [],
       "rendering_steps": 1,
       "screenshot": "",
       "screenshot_scale": 2,
       "time": 0,
       "voxel_paint_color": 0
      }
     },
     "b45824a2337f43cda30120d57b5b354f": {
      "model_module": "@jupyter-widgets/base",
      "model_module_version": "1.1.0",
      "model_name": "LayoutModel",
      "state": {}
     },
     "b6b99c42dd3a42098f417f629bd0973a": {
      "buffers": [
       {
        "data": "eNoDAAAAAAE=",
        "encoding": "base64",
        "path": [
         "attribute",
         "compressed_buffer"
        ]
       },
       {
        "data": "eNpNkrGKAjEQhrc4BK/fN9BybaxlBHsfwcbaarE8EKzEwkZ8A7HQVHLt/dZXH/oClsJyCGIjmD8k+gdCspOZj4+ZzaueZX4NphdcP77D3Z/w3+GeVz34o5vFJXGTfMvfHPubf4ZNZpZNjJvMcWdj3GSyJtVL3CRfOXYbzXZ8J/O3euxiPYbnpuM7meWi7ZKrxE3ylUM2xBPiCfGEeEI8IZ6JE2puo7qL/fSuXy7207uuXeznoVzsXep7jJvkKyfxIZ4QT4gnxBPiCfEMs/1v9AvWkXkqf4pUvzzeC8b4ttrWWnQlU+Im+cpJ84LMHTJ3yNwhc4fMHTL31z8Y10Hu3Se77SfB",
        "encoding": "base64",
        "path": [
         "vertices",
         "compressed_buffer"
        ]
       },
       {
        "data": "eNpjYGiwZ8AAxIsBAF7EAv0=",
        "encoding": "base64",
        "path": [
         "model_matrix",
         "compressed_buffer"
        ]
       },
       {
        "data": "eNoDAAAAAAE=",
        "encoding": "base64",
        "path": [
         "color_map",
         "compressed_buffer"
        ]
       },
       {
        "data": "eNpNlMdOA0EUBNc54ogjjjjiiDP8/48xLWqkXumpqjWH7tMmSZL8hCuEy4d7C/cbLpX8fwVcLIZLk6OLpXAZcnSxHC5Lji5WwuXI0cUqG3LmVTYV2Fkjv7OzyFsNF+v0F83FBv0lc7FJf9lcbNFfMRfbbKiat9lUY2eH/MHOOm8dXOzSXzcXe/Q3zMU+/U1zcUB/y1wcsqFtPmRTh50j8ic7u7yNcHFMf9dcnNDfMxen9PfNxRn9A3Nxzoah+ZxNI3YuyF/sHPO2wMUl/WNzcUX/xFxc0z81Fzf0z8zFLRvm5ls2Ldi5I3+zc8nbDhf39C/NxQP9K3PxSP/aXDzRvzEXz2zYmp/ZtGPnhfxi5563Cy5e6d+bizf6D+binf6jufig/2QuPtlwNn+y6cLOhJxn55W3BE/4H93I0VP8j+7k6Gn+Rw9y9Az/oyc5epb/0YscPcemP+tRJek=",
        "encoding": "base64",
        "path": [
         "indices",
         "compressed_buffer"
        ]
       }
      ],
      "model_module": "k3d",
      "model_module_version": "2.6.9",
      "model_name": "ObjectModel",
      "state": {
       "_view_count": null,
       "_view_module": null,
       "_view_module_version": "",
       "_view_name": null,
       "attribute": {
        "dtype": "float32",
        "shape": [
         0
        ]
       },
       "color": 255,
       "color_map": {
        "dtype": "float32",
        "shape": [
         0
        ]
       },
       "color_range": [],
       "compression_level": 0,
       "flat_shading": true,
       "id": 139657573303120,
       "indices": {
        "dtype": "uint32",
        "shape": [
         112,
         3
        ]
       },
       "model_matrix": {
        "dtype": "float32",
        "shape": [
         4,
         4
        ]
       },
       "name": null,
       "opacity": 1,
       "type": "Mesh",
       "vertices": {
        "dtype": "float32",
        "shape": [
         58,
         3
        ]
       },
       "visible": true,
       "wireframe": false
      }
     },
     "c1f3295e6c144536a2c594cc933143bb": {
      "model_module": "k3d",
      "model_module_version": "2.6.9",
      "model_name": "PlotModel",
      "state": {
       "_backend_version": "2.6.9",
       "_dom_classes": [],
       "_view_count": null,
       "antialias": 3,
       "axes": [
        "x",
        "y",
        "z"
       ],
       "background_color": 16777215,
       "camera": [
        2.5349703424076058,
        -3.052455513611408,
        0.20349703424076393,
        0.5,
        0,
        0,
        0,
        0,
        1
       ],
       "camera_auto_fit": true,
       "camera_no_pan": false,
       "camera_no_rotate": false,
       "camera_no_zoom": false,
       "clipping_planes": [],
       "colorbar_object_id": -1,
       "fps_meter": false,
       "grid": [
        -1,
        -1,
        -1,
        1,
        1,
        1
       ],
       "grid_auto_fit": true,
       "grid_visible": true,
       "height": 512,
       "layout": "IPY_MODEL_73f8469ecff34809b8072e412d2c4f74",
       "lighting": 1,
       "menu_visibility": true,
       "object_ids": [
        140499393214480,
        140499393180496
       ],
       "rendering_steps": 1,
       "screenshot": "",
       "screenshot_scale": 2,
       "time": 0,
       "voxel_paint_color": 0
      }
     },
     "c1f9c11c4fec47ef968e5b8f071d036e": {
      "model_module": "k3d",
      "model_module_version": "2.6.9",
      "model_name": "PlotModel",
      "state": {
       "_backend_version": "2.6.9",
       "_dom_classes": [],
       "_view_count": null,
       "antialias": 3,
       "axes": [
        "x",
        "y",
        "z"
       ],
       "background_color": 16777215,
       "camera": [
        4.5,
        4.5,
        4.5,
        0,
        0,
        0,
        1,
        0,
        0
       ],
       "camera_auto_fit": true,
       "camera_no_pan": false,
       "camera_no_rotate": false,
       "camera_no_zoom": false,
       "clipping_planes": [],
       "colorbar_object_id": -1,
       "fps_meter": false,
       "grid": [
        -1,
        -1,
        -1,
        1,
        1,
        1
       ],
       "grid_auto_fit": true,
       "grid_visible": true,
       "height": 512,
       "layout": "IPY_MODEL_84f3ada994d24594a45d3c8db24a89bc",
       "lighting": 1,
       "menu_visibility": true,
       "object_ids": [],
       "rendering_steps": 1,
       "screenshot": "",
       "screenshot_scale": 2,
       "time": 0,
       "voxel_paint_color": 0
      }
     },
     "c3e5e46f6eac4266b849ace9cc72565b": {
      "model_module": "k3d",
      "model_module_version": "2.6.9",
      "model_name": "PlotModel",
      "state": {
       "_backend_version": "2.6.9",
       "_dom_classes": [],
       "_view_count": null,
       "antialias": 3,
       "axes": [
        "x",
        "y",
        "z"
       ],
       "background_color": 16777215,
       "camera": [
        5.755765314519715,
        -8.633647971779574,
        0.5755765314519765,
        0,
        0,
        0,
        0,
        0,
        1
       ],
       "camera_auto_fit": true,
       "camera_no_pan": false,
       "camera_no_rotate": false,
       "camera_no_zoom": false,
       "clipping_planes": [],
       "colorbar_object_id": -1,
       "fps_meter": false,
       "grid": [
        -1,
        -1,
        -1,
        1,
        1,
        1
       ],
       "grid_auto_fit": true,
       "grid_visible": true,
       "height": 512,
       "layout": "IPY_MODEL_b45824a2337f43cda30120d57b5b354f",
       "lighting": 1,
       "menu_visibility": true,
       "object_ids": [
        140499393182928
       ],
       "rendering_steps": 1,
       "screenshot": "",
       "screenshot_scale": 2,
       "time": 0,
       "voxel_paint_color": 0
      }
     },
     "d807918a5bda44fa8a2c8b9ec533c159": {
      "buffers": [
       {
        "data": "eNoDAAAAAAE=",
        "encoding": "base64",
        "path": [
         "attribute",
         "compressed_buffer"
        ]
       },
       {
        "data": "eNpNkrGKAjEQhrcQ4ez3DbRbK2vHwt5HsLG2WiwFwUosbI57g+OKTSe2v731oS9gKSwiiI1g/pDoHwjJTmY+PmY2r4eW+TVeXnBr7MLdn/Df4Z7XQ/hjkMUlcZN8yz8c+1+3wiYzyxbGTeas/2fcZLIm1UvcJF85dp+uKr6TeaifVazH5NxxfCez3PRccpW4Sb5yyIZ4QjwhnhBPiCfEM3FCzX365WI/vevcxX56118X+7kvN1uX+h7jJvnKSXyIJ8QT4gnxhHhCPMNsr+1RwToyTyWKVP99fBSM8e2nanbpSqbETfKVk+YFmTtk7pC5Q+YOmTtk7u9/MK693Acv7SsnJg==",
        "encoding": "base64",
        "path": [
         "vertices",
         "compressed_buffer"
        ]
       },
       {
        "data": "eNpjYGiwZ8AAxIsBAF7EAv0=",
        "encoding": "base64",
        "path": [
         "model_matrix",
         "compressed_buffer"
        ]
       },
       {
        "data": "eNoDAAAAAAE=",
        "encoding": "base64",
        "path": [
         "color_map",
         "compressed_buffer"
        ]
       },
       {
        "data": "eNpNlMdOA0EUBNc54ogjjjjiiDP8/48xLWqkXumpqjWH7tMmSZL8hCuEy4d7C/cbLpX8fwVcLIZLk6OLpXAZcnSxHC5Lji5WwuXI0cUqG3LmVTYV2Fkjv7OzyFsNF+v0F83FBv0lc7FJf9lcbNFfMRfbbKiat9lUY2eH/MHOOm8dXOzSXzcXe/Q3zMU+/U1zcUB/y1wcsqFtPmRTh50j8ic7u7yNcHFMf9dcnNDfMxen9PfNxRn9A3Nxzoah+ZxNI3YuyF/sHPO2wMUl/WNzcUX/xFxc0z81Fzf0z8zFLRvm5ls2Ldi5I3+zc8nbDhf39C/NxQP9K3PxSP/aXDzRvzEXz2zYmp/ZtGPnhfxi5563Cy5e6d+bizf6D+binf6jufig/2QuPtlwNn+y6cLOhJxn55W3BE/4H93I0VP8j+7k6Gn+Rw9y9Az/oyc5epb/0YscPcemP+tRJek=",
        "encoding": "base64",
        "path": [
         "indices",
         "compressed_buffer"
        ]
       }
      ],
      "model_module": "k3d",
      "model_module_version": "2.6.9",
      "model_name": "ObjectModel",
      "state": {
       "_view_count": null,
       "_view_module": null,
       "_view_module_version": "",
       "_view_name": null,
       "attribute": {
        "dtype": "float32",
        "shape": [
         0
        ]
       },
       "color": 255,
       "color_map": {
        "dtype": "float32",
        "shape": [
         0
        ]
       },
       "color_range": [],
       "compression_level": 0,
       "flat_shading": true,
       "id": 139656766571600,
       "indices": {
        "dtype": "uint32",
        "shape": [
         112,
         3
        ]
       },
       "model_matrix": {
        "dtype": "float32",
        "shape": [
         4,
         4
        ]
       },
       "name": null,
       "opacity": 1,
       "type": "Mesh",
       "vertices": {
        "dtype": "float32",
        "shape": [
         58,
         3
        ]
       },
       "visible": true,
       "wireframe": false
      }
     },
     "e00441e2f32645e8bb9fb42112cd134f": {
      "model_module": "@jupyter-widgets/base",
      "model_module_version": "1.1.0",
      "model_name": "LayoutModel",
      "state": {}
     },
     "fee84ad55daf45709fec7bd0aeb2a584": {
      "model_module": "k3d",
      "model_module_version": "2.6.9",
      "model_name": "PlotModel",
      "state": {
       "_backend_version": "2.6.9",
       "_dom_classes": [],
       "_view_count": null,
       "antialias": 3,
       "axes": [
        "x",
        "y",
        "z"
       ],
       "background_color": 16777215,
       "camera": [
        8.484414855827978,
        -7.909988494372618,
        2.2219181016253553,
        0.7468292777129929,
        1.4226234165221927,
        -2.386358351204246,
        -0.15350344373814123,
        0.2657216140735257,
        0.9517503436167951
       ],
       "camera_auto_fit": true,
       "camera_no_pan": false,
       "camera_no_rotate": false,
       "camera_no_zoom": false,
       "clipping_planes": [],
       "colorbar_object_id": -1,
       "fps_meter": false,
       "grid": [
        -1,
        -1,
        -1,
        1,
        1,
        1
       ],
       "grid_auto_fit": true,
       "grid_visible": true,
       "height": 512,
       "layout": "IPY_MODEL_087fb554b85b4040a6f73b5a7bd28d35",
       "lighting": 1,
       "menu_visibility": true,
       "object_ids": [
        139656766553424
       ],
       "rendering_steps": 1,
       "screenshot": "",
       "screenshot_scale": 2,
       "time": 0,
       "voxel_paint_color": 0
      }
     }
    },
    "version_major": 2,
    "version_minor": 0
   }
  }
 },
 "nbformat": 4,
 "nbformat_minor": 2
}
